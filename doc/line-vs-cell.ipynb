{
 "cells": [
  {
   "cell_type": "code",
   "execution_count": null,
   "metadata": {},
   "outputs": [],
   "source": [
    "%load_ext magic_call"
   ]
  },
  {
   "cell_type": "code",
   "execution_count": null,
   "metadata": {},
   "outputs": [],
   "source": [
    "%load_ext magic_call.latex"
   ]
  },
  {
   "cell_type": "code",
   "execution_count": null,
   "metadata": {},
   "outputs": [],
   "source": [
    "%%call_latex_standalone?"
   ]
  },
  {
   "cell_type": "markdown",
   "metadata": {},
   "source": [
    "### cell magic\n",
    "\n",
    "`--display`, `--no-display`, `--save`\n",
    "\n",
    "not possible: load from file (only line magic can do that)\n",
    "\n",
    "maybe: `--preamble` (load preamble from `.tex` file)?"
   ]
  },
  {
   "cell_type": "code",
   "execution_count": null,
   "metadata": {},
   "outputs": [],
   "source": [
    "%%call_latex_standalone --display svg --save delme99.svg\n",
    "test"
   ]
  },
  {
   "cell_type": "code",
   "execution_count": null,
   "metadata": {},
   "outputs": [],
   "source": [
    "%%call_latex_standalone --no-display --save delme75.svg\n",
    "test"
   ]
  },
  {
   "cell_type": "markdown",
   "metadata": {},
   "source": [
    "### line magic\n",
    "\n",
    "loading a file is required, a separate `--load` flag is not necessary."
   ]
  },
  {
   "cell_type": "code",
   "execution_count": null,
   "metadata": {},
   "outputs": [],
   "source": [
    "%call_latex_standalone mytest.tex --display png;svg --save bla.pdf --preamble mypreamble.tex\n",
    "print('message')\n",
    "%call_latex_tikzpicture mytikz.tex --no-display --save mytikz.svg"
   ]
  },
  {
   "cell_type": "markdown",
   "metadata": {},
   "source": [
    "### preamble\n",
    "\n",
    "not possible: `--display` (by default `tex` + dummy HTML), `--preamble`\n",
    "\n",
    "possible: `--no-display`, `--save` (but only `.tex` is supported here!)"
   ]
  },
  {
   "cell_type": "code",
   "execution_count": null,
   "metadata": {},
   "outputs": [],
   "source": [
    "%%call_latex_preamble --save pre.tex\n",
    "\n",
    "% some definitions"
   ]
  },
  {
   "cell_type": "markdown",
   "metadata": {},
   "source": [
    "not possible: `--display`, `--preamble`, `--save` (doesn't make sense, would save the same thing it loaded)\n",
    "\n",
    "possible: `--no-display`"
   ]
  },
  {
   "cell_type": "code",
   "execution_count": null,
   "metadata": {},
   "outputs": [],
   "source": [
    "%call_latex_preamble otherpre.tex"
   ]
  }
 ],
 "metadata": {
  "kernelspec": {
   "display_name": "Python 3",
   "language": "python",
   "name": "python3"
  },
  "language_info": {
   "codemirror_mode": {
    "name": "ipython",
    "version": 3
   },
   "file_extension": ".py",
   "mimetype": "text/x-python",
   "name": "python",
   "nbconvert_exporter": "python",
   "pygments_lexer": "ipython3",
   "version": "3.6.7rc1"
  }
 },
 "nbformat": 4,
 "nbformat_minor": 2
}
