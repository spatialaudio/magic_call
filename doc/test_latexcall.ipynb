{
 "cells": [
  {
   "cell_type": "code",
   "execution_count": null,
   "metadata": {},
   "outputs": [],
   "source": [
    "%load_ext magic_call.latex"
   ]
  },
  {
   "cell_type": "code",
   "execution_count": null,
   "metadata": {},
   "outputs": [],
   "source": [
    "%%call_latex_standalone?"
   ]
  },
  {
   "cell_type": "code",
   "execution_count": null,
   "metadata": {},
   "outputs": [],
   "source": [
    "%%call_latex_standalone --display png,svg;svg,png --display svg --display png --save delme01.pdf\n",
    "abc"
   ]
  },
  {
   "cell_type": "code",
   "execution_count": null,
   "metadata": {},
   "outputs": [],
   "source": [
    "%%call_latex_standalone\n",
    "abc"
   ]
  },
  {
   "cell_type": "code",
   "execution_count": null,
   "metadata": {},
   "outputs": [],
   "source": [
    "%%call_latex_standalone --no-display --save delme-abc.png --save \"delme abc.svg\"\n",
    "abc"
   ]
  },
  {
   "cell_type": "code",
   "execution_count": null,
   "metadata": {},
   "outputs": [],
   "source": [
    "%%call_latex_preamble\n",
    "\\usepackage{pgfplots}\n",
    "\\pgfplotsset{compat=1.15}\n",
    "\n",
    "%\\pgfplotsset{width=5cm}\n",
    "\n",
    "%\\tikzstyle\n",
    "%\\pgfplotset\n",
    "%\\addplot+"
   ]
  },
  {
   "cell_type": "code",
   "execution_count": null,
   "metadata": {},
   "outputs": [],
   "source": [
    "%%call_latex_tikzpicture --display pdf;png;svg\n",
    "\n",
    "\\begin{axis}\n",
    "\\addplot table {\n",
    "0.         0.\n",
    "0.12973761 0.16180758\n",
    "0.36443149 0.35568513\n",
    "0.68658892 0.5728863\n",
    "1.0787172  0.80466472\n",
    "1.52332362 1.04227405\n",
    "2.00291545 1.27696793\n",
    "2.5        1.5\n",
    "2.99708455 1.70262391\n",
    "3.47667638 1.87609329\n",
    "3.9212828  2.01166181\n",
    "4.31341108 2.10058309\n",
    "4.63556851 2.13411079\n",
    "4.87026239 2.10349854\n",
    "5.         2.\n",
    "};\n",
    "\n",
    "\\addplot table {\n",
    "5.         2.\n",
    "5.05247813 1.85750729\n",
    "5.0728863  1.71720117\n",
    "5.06997085 1.58126822\n",
    "5.05247813 1.45189504\n",
    "5.02915452 1.33126822\n",
    "5.00874636 1.22157434\n",
    "5.         1.125\n",
    "5.01166181 1.04373178\n",
    "5.05247813 0.97995627\n",
    "5.13119534 0.93586006\n",
    "5.25655977 0.91362974\n",
    "5.43731778 0.9154519\n",
    "5.68221574 0.94351312\n",
    "6.         1.\n",
    "};\n",
    "\\end{axis}"
   ]
  },
  {
   "cell_type": "code",
   "execution_count": null,
   "metadata": {},
   "outputs": [],
   "source": [
    "%%call_latex_standalone --display pdf;png;svg\n",
    "\\Huge\\bf\n",
    "Hello, world!"
   ]
  },
  {
   "cell_type": "code",
   "execution_count": null,
   "metadata": {},
   "outputs": [],
   "source": [
    "%%call_latex --display pdf;png;svg\n",
    "\\documentclass[dvisvgm]{article}\n",
    "\\title{A \\LaTeX\\ Article}\n",
    "\\author{Anomymous}\n",
    "\\begin{document}\n",
    "\\maketitle\n",
    "\\section{First Section}\n",
    "Hello, world!\n",
    "\\section{Second Section}\n",
    "Have fun!\n",
    "\\end{document}"
   ]
  },
  {
   "cell_type": "code",
   "execution_count": null,
   "metadata": {},
   "outputs": [],
   "source": []
  }
 ],
 "metadata": {
  "kernelspec": {
   "display_name": "Python 3",
   "language": "python",
   "name": "python3"
  },
  "language_info": {
   "codemirror_mode": {
    "name": "ipython",
    "version": 3
   },
   "file_extension": ".py",
   "mimetype": "text/x-python",
   "name": "python",
   "nbconvert_exporter": "python",
   "pygments_lexer": "ipython3",
   "version": "3.6.7rc1"
  }
 },
 "nbformat": 4,
 "nbformat_minor": 2
}
