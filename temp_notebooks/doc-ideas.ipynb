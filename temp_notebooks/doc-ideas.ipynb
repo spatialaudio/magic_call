{
 "cells": [
  {
   "cell_type": "markdown",
   "metadata": {},
   "source": [
    "# Ideas for the Documentation"
   ]
  },
  {
   "cell_type": "markdown",
   "metadata": {},
   "source": [
    "first, TikZ and PGFPLOTS. stand-alone example, then preamble and multiple examples with similar style"
   ]
  },
  {
   "cell_type": "markdown",
   "metadata": {},
   "source": [
    "showing formats vs. saving formats"
   ]
  },
  {
   "cell_type": "markdown",
   "metadata": {},
   "source": [
    "Jinja2 usage"
   ]
  },
  {
   "cell_type": "markdown",
   "metadata": {},
   "source": [
    "create re-usable (plotting) functions"
   ]
  },
  {
   "cell_type": "markdown",
   "metadata": {},
   "source": [
    "`latexstandalone` and \"full latex\" examples"
   ]
  },
  {
   "cell_type": "markdown",
   "metadata": {},
   "source": [
    "including saved figures in separate LaTeX files: fonts may be different!"
   ]
  },
  {
   "cell_type": "markdown",
   "metadata": {},
   "source": [
    "auto-executing notebooks with `latexmk`?"
   ]
  },
  {
   "cell_type": "markdown",
   "metadata": {},
   "source": [
    "usage outside the notebook?"
   ]
  },
  {
   "cell_type": "markdown",
   "metadata": {},
   "source": [
    "https://ipython.readthedocs.io/en/latest/config/custommagics.html"
   ]
  }
 ],
 "metadata": {
  "kernelspec": {
   "display_name": "Python 3",
   "language": "python",
   "name": "python3"
  },
  "language_info": {
   "codemirror_mode": {
    "name": "ipython",
    "version": 3
   },
   "file_extension": ".py",
   "mimetype": "text/x-python",
   "name": "python",
   "nbconvert_exporter": "python",
   "pygments_lexer": "ipython3",
   "version": "3.8.6"
  }
 },
 "nbformat": 4,
 "nbformat_minor": 4
}
