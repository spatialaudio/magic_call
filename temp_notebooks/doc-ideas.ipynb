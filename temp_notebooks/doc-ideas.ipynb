{
 "cells": [
  {
   "cell_type": "markdown",
   "metadata": {},
   "source": [
    "# Ideas for the Documentation"
   ]
  },
  {
   "cell_type": "markdown",
   "metadata": {},
   "source": [
    "first, TikZ and PGFPLOTS. stand-alone example, then preamble and multiple examples with similar style"
   ]
  },
  {
   "cell_type": "markdown",
   "metadata": {},
   "source": [
    "showing formats vs. saving formats"
   ]
  },
  {
   "cell_type": "markdown",
   "metadata": {},
   "source": [
    "Jinja2 usage"
   ]
  },
  {
   "cell_type": "markdown",
   "metadata": {},
   "source": [
    "create re-usable (plotting) functions"
   ]
  },
  {
   "cell_type": "markdown",
   "metadata": {},
   "source": [
    "`latexstandalone` and \"full latex\" examples"
   ]
  },
  {
   "cell_type": "markdown",
   "metadata": {},
   "source": [
    "including saved figures in separate LaTeX files: fonts may be different!"
   ]
  },
  {
   "cell_type": "markdown",
   "metadata": {},
   "source": [
    "auto-executing notebooks with `latexmk`?"
   ]
  },
  {
   "cell_type": "markdown",
   "metadata": {},
   "source": [
    "usage outside the notebook?"
   ]
  },
  {
   "cell_type": "markdown",
   "metadata": {},
   "source": [
    "https://ipython.readthedocs.io/en/latest/config/custommagics.html"
   ]
  },
  {
   "cell_type": "markdown",
   "metadata": {},
   "source": [
    "## Alternatives\n",
    "\n",
    "In alphabetic order.\n",
    "If you know more, please add them with a\n",
    "[PR](https://github.com/spatialaudio/magic_call/pulls)\n",
    "or create an [issue](https://github.com/spatialaudio/magic_call/issues)."
   ]
  },
  {
   "cell_type": "markdown",
   "metadata": {},
   "source": [
    "**IPython.lib.latextools**\n",
    "\n",
    "> Tools for handling LaTeX.\n",
    "\n",
    "https://ipython.readthedocs.io/en/stable/api/generated/IPython.lib.latextools.html"
   ]
  },
  {
   "cell_type": "markdown",
   "metadata": {},
   "source": [
    "**latex**\n",
    "\n",
    "> Allows calling LaTeX from Python without leaving a mess.\n",
    "\n",
    "https://pythonhosted.org/latex/\n",
    "\n",
    "https://github.com/mbr/latex"
   ]
  },
  {
   "cell_type": "markdown",
   "metadata": {},
   "source": [
    "**plasTeX**\n",
    "\n",
    "> plasTeX is a LaTeX document processing framework written entirely in Python. It currently comes bundled with an XHTML renderer (including multiple themes), as well as a way to simply dump the document to a generic form of XML. Other renderers can be added as well and are planned for future releases.\n",
    "\n",
    "http://tiarno.github.io/plastex/\n",
    "\n",
    "https://github.com/tiarno/plastex"
   ]
  },
  {
   "cell_type": "markdown",
   "metadata": {},
   "source": [
    "**PyLaTeX**\n",
    "\n",
    "> PyLaTeX is a Python library for creating and compiling LaTeX files or snippets. The goal of this library is being an easy, but extensible interface between Python and LaTeX.\n",
    "\n",
    "https://jeltef.github.io/PyLaTeX/\n",
    "\n",
    "https://github.com/JelteF/PyLaTeX"
   ]
  },
  {
   "cell_type": "markdown",
   "metadata": {},
   "source": [
    "**PyTeX**\n",
    "\n",
    "> We've given TeX a Python callable function interface, with the TeX daemon running behind the scenes. This is proof of concept, but might already be useful.\n",
    "\n",
    "http://www.pytex.org/"
   ]
  },
  {
   "cell_type": "markdown",
   "metadata": {},
   "source": [
    "**PyX**\n",
    "\n",
    "> PyX is a Python package for the creation of PostScript, PDF, and SVG files. It combines an abstraction of the PostScript drawing model with a TeX/LaTeX interface. Complex tasks like 2d and 3d plots in publication-ready quality are built out of these primitives.\n",
    "\n",
    "http://pyx.sourceforge.net/"
   ]
  },
  {
   "cell_type": "markdown",
   "metadata": {},
   "source": [
    "**ReportLab**\n",
    "\n",
    "> ReportLab is the time-proven, ultra-robust open-source engine for creating complex, data-driven PDF documents and custom vector graphics. It's free, open-source, and written in Python.\n",
    "\n",
    "https://www.reportlab.com/opensource/"
   ]
  },
  {
   "cell_type": "markdown",
   "metadata": {},
   "source": [
    "**runlatex**\n",
    "\n",
    "> Routines to help run LaTeX builds.\n",
    "\n",
    "https://github.com/brendano/runlatex\n",
    "\n",
    "https://github.com/brendano/runlatex/blob/master/runlatex.py"
   ]
  },
  {
   "cell_type": "markdown",
   "metadata": {},
   "source": [
    "**Sage LaTeX printing support**\n",
    "\n",
    "https://doc.sagemath.org/html/en/reference/misc/sage/misc/latex.html\n",
    "\n",
    "https://github.com/sagemath/sage/blob/master/src/sage/misc/latex.py"
   ]
  },
  {
   "cell_type": "markdown",
   "metadata": {},
   "source": [
    "**Texcaller**\n",
    "\n",
    "> Texcaller is a convenient interface to the TeX command line tools.\n",
    "\n",
    "https://vog.github.io/texcaller/\n",
    "\n",
    "Successor to the obsolete Python-tex package (https://pypi.org/project/tex/)."
   ]
  }
 ],
 "metadata": {
  "kernelspec": {
   "display_name": "Python 3",
   "language": "python",
   "name": "python3"
  },
  "language_info": {
   "codemirror_mode": {
    "name": "ipython",
    "version": 3
   },
   "file_extension": ".py",
   "mimetype": "text/x-python",
   "name": "python",
   "nbconvert_exporter": "python",
   "pygments_lexer": "ipython3",
   "version": "3.6.7rc1"
  }
 },
 "nbformat": 4,
 "nbformat_minor": 2
}
