{
 "cells": [
  {
   "cell_type": "markdown",
   "metadata": {},
   "source": [
    "test size of different output formats and check if fonts work\n",
    "\n",
    "TODO: different tool chains for the same format, e.g. dvi.svg and pdf.svg"
   ]
  },
  {
   "cell_type": "code",
   "execution_count": null,
   "metadata": {},
   "outputs": [],
   "source": [
    "%load_ext magic_call.latex"
   ]
  },
  {
   "cell_type": "markdown",
   "metadata": {},
   "source": [
    "TODO: define additional tools (but mention that this should be normally done with the IPython configuration system).\n",
    "Is it possible to load a local IPython config just for one notebook?"
   ]
  },
  {
   "cell_type": "markdown",
   "metadata": {},
   "source": [
    "TODO: any other special features to test?"
   ]
  },
  {
   "cell_type": "markdown",
   "metadata": {},
   "source": [
    "TODO: save example to re-use later"
   ]
  },
  {
   "cell_type": "code",
   "execution_count": null,
   "metadata": {},
   "outputs": [],
   "source": [
    "%%call_latex_standalone --display png;svg\n",
    "\\rule{5cm}{1cm} ABC $\\mathcal{ABC}$"
   ]
  },
  {
   "cell_type": "code",
   "execution_count": null,
   "metadata": {},
   "outputs": [],
   "source": [
    "%%call_latex_standalone\n",
    "\\fbox{\\rule{5cm}{1cm}} ABC $\\mathcal{ABC}$"
   ]
  },
  {
   "cell_type": "code",
   "execution_count": null,
   "metadata": {},
   "outputs": [],
   "source": [
    "%%call_latex_standalone\n",
    "\\fbox{\\rule{5cm}{0pt}\\rule[-0.5ex]{0pt}{1cm}}"
   ]
  },
  {
   "cell_type": "code",
   "execution_count": null,
   "metadata": {},
   "outputs": [],
   "source": []
  }
 ],
 "metadata": {
  "kernelspec": {
   "display_name": "Python 3",
   "language": "python",
   "name": "python3"
  },
  "language_info": {
   "codemirror_mode": {
    "name": "ipython",
    "version": 3
   },
   "file_extension": ".py",
   "mimetype": "text/x-python",
   "name": "python",
   "nbconvert_exporter": "python",
   "pygments_lexer": "ipython3",
   "version": "3.8.6"
  }
 },
 "nbformat": 4,
 "nbformat_minor": 4
}
